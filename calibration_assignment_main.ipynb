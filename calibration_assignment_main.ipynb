{
  "nbformat": 4,
  "nbformat_minor": 0,
  "metadata": {
    "colab": {
      "name": "calibration_assignment_main.ipynb",
      "version": "0.3.2",
      "provenance": [],
      "collapsed_sections": [],
      "include_colab_link": true
    },
    "kernelspec": {
      "name": "python2",
      "display_name": "Python 2"
    }
  },
  "cells": [
    {
      "cell_type": "markdown",
      "metadata": {
        "id": "view-in-github",
        "colab_type": "text"
      },
      "source": [
        "<a href=\"https://colab.research.google.com/github/ChungHanYang/camera-caliberation/blob/master/calibration_assignment_main.ipynb\" target=\"_parent\"><img src=\"https://colab.research.google.com/assets/colab-badge.svg\" alt=\"Open In Colab\"/></a>"
      ]
    },
    {
      "metadata": {
        "id": "DmftS3V9FgP7",
        "colab_type": "text"
      },
      "cell_type": "markdown",
      "source": [
        "### ASSIGNMENT : CAMERA CALIBRATION\n",
        "\n",
        "#### A few guidelines:\n",
        "#### Before going further, read the accompanying document CalibrationAssignment.docx  which describes the assignment and the the things you need to do.\n",
        "#### Write a separate report answering the questions described in CalibrationAssignment.docx. Upload the report (as a .pdf file) as well as the completed .ipynb file with outputs on Blackboard\n",
        "Each student should work on the assignment independently.\n",
        "\n",
        "The code provided can be run on Google Colaboratory -- colab.research.google.com -- with only one modification (see below). "
      ]
    },
    {
      "metadata": {
        "id": "Wma7m5CNU4Sk",
        "colab_type": "code",
        "colab": {}
      },
      "cell_type": "code",
      "source": [
        "import numpy as np\n",
        "import cv2\n",
        "import scipy.io\n",
        "import os\n",
        "from numpy.linalg import norm\n",
        "from matplotlib import pyplot as plt\n",
        "from numpy.linalg import det\n",
        "from numpy.linalg import inv\n",
        "from scipy.linalg import rq\n",
        "from scipy.linalg import solve\n",
        "from scipy.linalg import lstsq\n",
        "from scipy.linalg import qr\n",
        "from numpy.linalg import svd\n",
        "from math import sqrt"
      ],
      "execution_count": 0,
      "outputs": []
    },
    {
      "metadata": {
        "id": "-kGO1wv-_QyJ",
        "colab_type": "text"
      },
      "cell_type": "markdown",
      "source": [
        "####This part of the code lets you use files from your Google Drive account\n",
        "####You need not use this if you are not using Google Colaboratory\n",
        "####Running code on Google Colab\n",
        "\n",
        "(a) Make a folder on Google Drive, upload this file and all the data files provided to you into the same folder\n",
        "\n",
        "(b) The last part of the URL will serve as the \"folder_id\" in the line below\n",
        "\n",
        "If you are unsure, you can read further here : https://stackoverflow.com/questions/48376580/google-colab-how-to-read-data-from-my-google-drive"
      ]
    },
    {
      "metadata": {
        "id": "8VLuJigOV0jm",
        "colab_type": "code",
        "outputId": "8ee317df-202e-445a-fe00-05bbb9d41bc9",
        "colab": {
          "resources": {
            "http://localhost:8080/nbextensions/google.colab/files.js": {
              "data": "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",
              "ok": true,
              "headers": [
                [
                  "content-type",
                  "application/javascript"
                ]
              ],
              "status": 200,
              "status_text": ""
            }
          },
          "base_uri": "https://localhost:8080/",
          "height": 137
        }
      },
      "cell_type": "code",
      "source": [
        "from google.colab import files\n",
        "uploaded = files.upload()"
      ],
      "execution_count": 0,
      "outputs": [
        {
          "output_type": "display_data",
          "data": {
            "text/plain": [
              "<IPython.core.display.HTML object>"
            ],
            "text/html": [
              "\n",
              "     <input type=\"file\" id=\"files-02ebb401-6a1f-4bec-8c25-0920bb1c0228\" name=\"files[]\" multiple disabled />\n",
              "     <output id=\"result-02ebb401-6a1f-4bec-8c25-0920bb1c0228\">\n",
              "      Upload widget is only available when the cell has been executed in the\n",
              "      current browser session. Please rerun this cell to enable.\n",
              "      </output>\n",
              "      <script src=\"/nbextensions/google.colab/files.js\"></script> "
            ]
          },
          "metadata": {
            "tags": []
          }
        },
        {
          "output_type": "stream",
          "text": [
            "Saving pt_corres.mat to pt_corres.mat\n",
            "Saving rubik_2D_pts.mat to rubik_2D_pts.mat\n",
            "Saving rubik_3D_pts.mat to rubik_3D_pts.mat\n"
          ],
          "name": "stdout"
        }
      ]
    },
    {
      "metadata": {
        "id": "fTUXHAEoWSMU",
        "colab_type": "text"
      },
      "cell_type": "markdown",
      "source": [
        "####PART 1: Given corresponding 2d points in the image and 3d coordinates with known extrinsics, estimate the camera intrinsics of the form given in the CalibrationAssignment.docx"
      ]
    },
    {
      "metadata": {
        "id": "DAdmjVtfVJrv",
        "colab_type": "code",
        "outputId": "36f31cde-994f-4181-e6f6-ba8ac8624a1b",
        "colab": {
          "base_uri": "https://localhost:8080/",
          "height": 85
        }
      },
      "cell_type": "code",
      "source": [
        "# Code for Part 1 starts here\n",
        "\n",
        "# Step 1: Load the data file pt_corres.mat\n",
        "data_part1 = scipy.io.loadmat('pt_corres.mat')\n",
        "cam_pts_3D = data_part1['cam_pts_3D']         # Load the 3d points\n",
        "pts_2D = data_part1['pts_2D']                 # Load the corresponding 2d points\n",
        "\n",
        "print pts_2D.shape\n",
        "print cam_pts_3D.shape\n",
        "\n",
        "# Step 2: Write your code here to compute the camera intrinsics\n",
        "height_2D, width_2D = pts_2D.shape\n",
        "height_3D, width_3D = cam_pts_3D.shape\n",
        "for i in range(width_3D):\n",
        "  cam_pts_3D[0][i] /= cam_pts_3D[2][i]\n",
        "  cam_pts_3D[1][i] /= cam_pts_3D[2][i]\n",
        "  cam_pts_3D[2][i] /= cam_pts_3D[2][i]\n",
        "  \n",
        "# K = solve(cam_pts_3D,pts_2D)\n",
        "a = np.array([[cam_pts_3D[1][0], 1], [cam_pts_3D[1][1], 1], [cam_pts_3D[1][2], 1], [cam_pts_3D[1][3], 1], [cam_pts_3D[1][4], 1], [cam_pts_3D[1][5], 1], [cam_pts_3D[1][6], 1], \n",
        "              [cam_pts_3D[1][7], 1], [cam_pts_3D[1][8], 1], [cam_pts_3D[1][9], 1], [cam_pts_3D[1][10], 1], [cam_pts_3D[1][11], 1], [cam_pts_3D[1][12], 1], [cam_pts_3D[1][13], 1],\n",
        "              [cam_pts_3D[1][14], 1], [cam_pts_3D[1][15], 1], [cam_pts_3D[1][16], 1], [cam_pts_3D[1][17], 1], [cam_pts_3D[1][18], 1], [cam_pts_3D[1][19], 1], [cam_pts_3D[1][20], 1],\n",
        "              [cam_pts_3D[1][21], 1], [cam_pts_3D[1][22], 1], [cam_pts_3D[1][23], 1], [cam_pts_3D[1][24], 1], [cam_pts_3D[1][25], 1], [cam_pts_3D[1][26], 1], [cam_pts_3D[1][27], 1],])\n",
        "b = np.array([pts_2D[1][0], pts_2D[1][1], pts_2D[1][2], pts_2D[1][3], pts_2D[1][4], pts_2D[1][5], pts_2D[1][6], pts_2D[1][7], pts_2D[1][8], pts_2D[1][9], \n",
        "              pts_2D[1][10], pts_2D[1][11], pts_2D[1][12], pts_2D[1][13], pts_2D[1][14], pts_2D[1][15], pts_2D[1][16], pts_2D[1][17], pts_2D[1][18], pts_2D[1][19], \n",
        "              pts_2D[1][20], pts_2D[1][21], pts_2D[1][22], pts_2D[1][23], pts_2D[1][24], pts_2D[1][25], pts_2D[1][26], pts_2D[1][27]])\n",
        "y = lstsq(a, b)[0] #(alpha_y, p_y)\n",
        "\n",
        "\n",
        "c = np.array([[cam_pts_3D[0][0], cam_pts_3D[1][0], 1], [cam_pts_3D[0][1], cam_pts_3D[1][1], 1], [cam_pts_3D[0][2], cam_pts_3D[1][2], 1], [cam_pts_3D[0][3], cam_pts_3D[1][3], 1], [cam_pts_3D[0][4], cam_pts_3D[1][4], 1], \n",
        "              [cam_pts_3D[0][5], cam_pts_3D[1][5], 1], [cam_pts_3D[0][6], cam_pts_3D[1][6], 1], [cam_pts_3D[0][7], cam_pts_3D[1][7], 1], [cam_pts_3D[0][8], cam_pts_3D[1][8], 1], [cam_pts_3D[0][9], cam_pts_3D[1][9], 1], \n",
        "              [cam_pts_3D[0][10], cam_pts_3D[1][10], 1], [cam_pts_3D[0][11], cam_pts_3D[1][11], 1], [cam_pts_3D[0][12], cam_pts_3D[1][12], 1], [cam_pts_3D[0][13], cam_pts_3D[1][13], 1], [cam_pts_3D[0][14], cam_pts_3D[1][14], 1],\n",
        "              [cam_pts_3D[0][15], cam_pts_3D[1][15], 1], [cam_pts_3D[0][16], cam_pts_3D[1][16], 1], [cam_pts_3D[0][17], cam_pts_3D[1][17], 1], [cam_pts_3D[0][18], cam_pts_3D[1][18], 1], [cam_pts_3D[0][19], cam_pts_3D[1][19], 1],\n",
        "              [cam_pts_3D[0][20], cam_pts_3D[1][20], 1], [cam_pts_3D[0][21], cam_pts_3D[1][21], 1], [cam_pts_3D[0][22], cam_pts_3D[1][22], 1], [cam_pts_3D[0][23], cam_pts_3D[1][23], 1], [cam_pts_3D[0][24], cam_pts_3D[1][24], 1],\n",
        "              [cam_pts_3D[0][25], cam_pts_3D[1][25], 1], [cam_pts_3D[0][26], cam_pts_3D[1][26], 1], [cam_pts_3D[0][27], cam_pts_3D[1][27], 1]])\n",
        "d = np.array([pts_2D[0][0], pts_2D[0][1], pts_2D[0][2], pts_2D[0][3], pts_2D[0][4], pts_2D[0][5], pts_2D[0][6], pts_2D[0][7], pts_2D[0][8], pts_2D[0][9], pts_2D[0][10], pts_2D[0][11], pts_2D[0][12], \n",
        "              pts_2D[0][2], pts_2D[0][13], pts_2D[0][14], pts_2D[0][15], pts_2D[0][16], pts_2D[0][17], pts_2D[0][18], pts_2D[0][19], pts_2D[0][20], pts_2D[0][22], pts_2D[0][23], pts_2D[0][24], pts_2D[0][25], pts_2D[0][26], pts_2D[0][27]])\n",
        "x = lstsq(c, d)[0] ##(alpha_x, s, p_x)\n",
        "\n",
        "\n",
        "\n",
        "#K = [x,\n",
        "    #[0,y],\n",
        "     #last]\n",
        "print x\n",
        "print y\n",
        "\n",
        "\n",
        "# Code for Part 1 ends here"
      ],
      "execution_count": 0,
      "outputs": [
        {
          "output_type": "stream",
          "text": [
            "(2, 28)\n",
            "(3, 28)\n",
            "[2175.41552191  312.87665392  864.45654426]\n",
            "[3428.86005859  627.54555634]\n"
          ],
          "name": "stdout"
        }
      ]
    },
    {
      "metadata": {
        "id": "WvwcavClWxUa",
        "colab_type": "text"
      },
      "cell_type": "markdown",
      "source": [
        "####PART 2: Given 2d points on the image and corresponding 3d points in the world-coordinate system, estimate both intrinsics and extrinsics. You need to fill in the code for the function calibrate() in calib_DLT.ipynb before running the cell below"
      ]
    },
    {
      "metadata": {
        "id": "s_21yq8GXM9T",
        "colab_type": "code",
        "outputId": "95780a94-4916-4010-d5bc-8dd46695c11a",
        "colab": {
          "base_uri": "https://localhost:8080/",
          "height": 833
        }
      },
      "cell_type": "code",
      "source": [
        "def calibrate(x,X):\n",
        "  '''\n",
        "  This function computes camera projection matrix from 3D scene points\n",
        "  and corresponding 2D image points with the Direct Linear Transformation (DLT)\n",
        "  \n",
        "  '''\n",
        "  # Your code goes here\n",
        "  one = np.ones((28,), dtype=int)\n",
        "  x = np.vstack((x,one)) \n",
        "  X = np.vstack((X,one))\n",
        "  \n",
        "  array1 = np.array([[0, 0, 0, 0, X[0][0], X[1][0], X[2][0], X[3][0], -x[1][0]*X[0][0], -x[1][0]*X[1][0], -x[1][0]*X[2][0], -x[1][0]*X[3][0]],\n",
        "                    [X[0][0], X[1][0], X[2][0], X[3][0], 0, 0, 0, 0, -x[0][0]*X[0][0], -x[0][0]*X[1][0], -x[0][0]*X[2][0], -x[0][0]*X[3][0]]\n",
        "                    ])\n",
        "  array2 = np.array([[0, 0, 0, 0, X[0][1], X[1][1], X[2][1], X[3][1], -x[1][1]*X[0][1], -x[1][1]*X[1][1], -x[1][1]*X[2][1], -x[1][1]*X[3][1]],\n",
        "                    [X[0][1], X[1][1], X[2][1], X[3][1], 0, 0, 0, 0, -x[0][1]*X[0][1], -x[0][1]*X[1][1], -x[0][1]*X[2][1], -x[0][1]*X[3][1]]\n",
        "                    ])\n",
        "  array3 = np.array([[0, 0, 0, 0, X[0][2], X[1][2], X[2][2], X[3][2], -x[1][2]*X[0][2], -x[1][2]*X[1][2], -x[1][2]*X[2][2], -x[1][2]*X[3][2]],\n",
        "                    [X[0][2], X[1][2], X[2][2], X[3][2], 0, 0, 0, 0, -x[0][2]*X[0][2], -x[0][2]*X[1][2], -x[0][2]*X[2][2], -x[0][2]*X[3][2]]\n",
        "                    ])\n",
        "  array4 = np.array([[0, 0, 0, 0, X[0][3], X[1][3], X[2][3], X[3][3], -x[1][3]*X[0][3], -x[1][3]*X[1][3], -x[1][3]*X[2][3], -x[1][3]*X[3][3]],\n",
        "                    [X[0][3], X[1][3], X[2][3], X[3][3], 0, 0, 0, 0, -x[0][3]*X[0][3], -x[0][3]*X[1][3], -x[0][3]*X[2][3], -x[0][3]*X[3][3]]\n",
        "                    ])\n",
        "  array5 = np.array([[0, 0, 0, 0, X[0][4], X[1][4], X[2][4], X[3][4], -x[1][4]*X[0][4], -x[1][4]*X[1][4], -x[1][4]*X[2][4], -x[1][4]*X[3][4]],\n",
        "                    [X[0][4], X[1][4], X[2][4], X[3][4], 0, 0, 0, 0, -x[0][4]*X[0][4], -x[0][4]*X[1][4], -x[0][4]*X[2][4], -x[0][4]*X[3][4]]\n",
        "                    ])\n",
        "  array6 = np.array([[0, 0, 0, 0, X[0][5], X[1][5], X[2][5], X[3][5], -x[1][5]*X[0][5], -x[1][5]*X[1][5], -x[1][5]*X[2][5], -x[1][5]*X[3][5]],\n",
        "                    [X[0][5], X[1][5], X[2][5], X[3][5], 0, 0, 0, 0, -x[0][5]*X[0][5], -x[0][5]*X[1][5], -x[0][5]*X[2][5], -x[0][5]*X[3][5]]\n",
        "                    ])\n",
        "  array7 = np.array([[0, 0, 0, 0, X[0][6], X[1][6], X[2][6], X[3][6], -x[1][6]*X[0][6], -x[1][6]*X[1][6], -x[1][6]*X[2][6], -x[1][6]*X[3][6]],\n",
        "                    [X[0][6], X[1][6], X[2][6], X[3][6], 0, 0, 0, 0, -x[0][6]*X[0][6], -x[0][6]*X[1][6], -x[0][6]*X[2][6], -x[0][6]*X[3][6]]\n",
        "                    ])\n",
        "  array8 = np.array([[0, 0, 0, 0, X[0][7], X[1][7], X[2][7], X[3][7], -x[1][7]*X[0][7], -x[1][7]*X[1][7], -x[1][7]*X[2][7], -x[1][7]*X[3][7]],\n",
        "                    [X[0][7], X[1][7], X[2][7], X[3][7], 0, 0, 0, 0, -x[0][7]*X[0][7], -x[0][7]*X[1][7], -x[0][7]*X[2][7], -x[0][7]*X[3][7]]\n",
        "                    ])\n",
        "  array9 = np.array([[0, 0, 0, 0, X[0][8], X[1][8], X[2][8], X[3][8], -x[1][8]*X[0][8], -x[1][8]*X[1][8], -x[1][8]*X[2][8], -x[1][8]*X[3][8]],\n",
        "                    [X[0][8], X[1][8], X[2][8], X[3][8], 0, 0, 0, 0, -x[0][8]*X[0][8], -x[0][8]*X[1][8], -x[0][8]*X[2][8], -x[0][8]*X[3][8]]\n",
        "                    ])\n",
        "  array10 = np.array([[0, 0, 0, 0, X[0][9], X[1][9], X[2][9], X[3][9], -x[1][9]*X[0][9], -x[1][9]*X[1][9], -x[1][9]*X[2][9], -x[1][9]*X[3][9]],\n",
        "                    [X[0][9], X[1][9], X[2][9], X[3][9], 0, 0, 0, 0, -x[0][9]*X[0][9], -x[0][9]*X[1][9], -x[0][9]*X[2][9], -x[0][9]*X[3][9]]\n",
        "                    ])\n",
        "  array11 = np.array([[0, 0, 0, 0, X[0][10], X[1][10], X[2][10], X[3][10], -x[1][10]*X[0][10], -x[1][10]*X[1][10], -x[1][10]*X[2][10], -x[1][10]*X[3][10]],\n",
        "                    [X[0][10], X[1][10], X[2][10], X[3][10], 0, 0, 0, 0, -x[0][10]*X[0][10], -x[0][10]*X[1][10], -x[0][10]*X[2][10], -x[0][10]*X[3][10]]\n",
        "                    ])\n",
        "  array12 = np.array([[0, 0, 0, 0, X[0][11], X[1][11], X[2][11], X[3][11], -x[1][11]*X[0][11], -x[1][11]*X[1][11], -x[1][11]*X[2][11], -x[1][11]*X[3][11]],\n",
        "                    [X[0][11], X[1][11], X[2][11], X[3][11], 0, 0, 0, 0, -x[0][11]*X[0][11], -x[0][11]*X[1][11], -x[0][11]*X[2][11], -x[0][11]*X[3][11]]\n",
        "                    ])\n",
        "  array13 = np.array([[0, 0, 0, 0, X[0][12], X[1][12], X[2][12], X[3][12], -x[1][12]*X[0][12], -x[1][12]*X[1][12], -x[1][12]*X[2][12], -x[1][12]*X[3][12]],\n",
        "                    [X[0][12], X[1][12], X[2][12], X[3][12], 0, 0, 0, 0, -x[0][12]*X[0][12], -x[0][12]*X[1][12], -x[0][12]*X[2][12], -x[0][12]*X[3][12]]\n",
        "                    ])\n",
        "  array14 = np.array([[0, 0, 0, 0, X[0][13], X[1][13], X[2][13], X[3][13], -x[1][13]*X[0][13], -x[1][13]*X[1][13], -x[1][13]*X[2][13], -x[1][13]*X[3][13]],\n",
        "                    [X[0][13], X[1][13], X[2][13], X[3][13], 0, 0, 0, 0, -x[0][11]*X[0][13], -x[0][13]*X[1][13], -x[0][13]*X[2][13], -x[0][13]*X[3][13]]\n",
        "                    ])\n",
        "  array15 = np.array([[0, 0, 0, 0, X[0][14], X[1][14], X[2][14], X[3][14], -x[1][14]*X[0][14], -x[1][14]*X[1][14], -x[1][14]*X[2][14], -x[1][14]*X[3][14]],\n",
        "                    [X[0][14], X[1][14], X[2][14], X[3][14], 0, 0, 0, 0, -x[0][14]*X[0][14], -x[0][14]*X[1][14], -x[0][14]*X[2][14], -x[0][14]*X[3][14]]\n",
        "                    ])\n",
        "  array20 = np.array([[0, 0, 0, 0, X[0][19], X[1][19], X[2][19], X[3][19], -x[1][19]*X[0][19], -x[1][19]*X[1][19], -x[1][19]*X[2][19], -x[1][19]*X[3][19]],\n",
        "                    [X[0][19], X[1][19], X[2][19], X[3][19], 0, 0, 0, 0, -x[0][19]*X[0][19], -x[0][19]*X[1][19], -x[0][11]*X[2][19], -x[0][19]*X[3][19]]\n",
        "                    ])\n",
        "  array25 = np.array([[0, 0, 0, 0, X[0][24], X[1][24], X[2][24], X[3][24], -x[1][24]*X[0][24], -x[1][24]*X[1][24], -x[1][24]*X[2][24], -x[1][24]*X[3][24]],\n",
        "                    [X[0][24], X[1][24], X[2][24], X[3][24], 0, 0, 0, 0, -x[0][24]*X[0][24], -x[0][24]*X[1][24], -x[0][24]*X[2][24], -x[0][24]*X[3][24]]\n",
        "                    ])\n",
        "  array26 = np.array([[0, 0, 0, 0, X[0][25], X[1][25], X[2][25], X[3][25], -x[1][25]*X[0][25], -x[1][25]*X[1][25], -x[1][25]*X[2][25], -x[1][25]*X[3][25]],\n",
        "                    [X[0][25], X[1][25], X[2][25], X[3][25], 0, 0, 0, 0, -x[0][25]*X[0][25], -x[0][25]*X[1][25], -x[0][25]*X[2][25], -x[0][25]*X[3][25]]\n",
        "                    ])\n",
        "\n",
        "\n",
        "  A = np.vstack((array1, array2, array3, array4, array5, array6, array7, array8, array9, array10, array11, array12, array13, array14, array15, array20, array25, array26))\n",
        "  #print A\n",
        "  U,sigma,VT = svd(A)\n",
        "  #print sigma\n",
        "\n",
        "  V = np.transpose(VT)\n",
        "  \n",
        "  #print V\n",
        "  p1 = V[0:4,-1]\n",
        "  p2 = V[4:8,-1]\n",
        "  p3 = V[8:12,-1]\n",
        "  P = np.vstack((p1,p2,p3))\n",
        "\n",
        " \n",
        "  \n",
        "  return P\n",
        "\n",
        "#######################################################################################################################################################################################################\n",
        "\n",
        "def P_to_KRt(P):\n",
        "  \n",
        "  M = P[0:3,0:3]\n",
        "  \n",
        "  R, Q = rq(M)\n",
        "    \n",
        "  K = R/float(R[2,2])\n",
        "  \n",
        "  if K[0,0] < 0:\n",
        "    K[:,0] = -1*K[:,0]\n",
        "    Q[0,:] = -1*Q[0,:]\n",
        "    \n",
        "  if K[1,1] < 0:\n",
        "    K[:,1] = -1*K[:,1]\n",
        "    Q[1,:] = -1*Q[1,:]\n",
        "  \n",
        "  if det(Q) < 0:\n",
        "    print 'Warning: Determinant of the supposed rotation matrix is -1'\n",
        "  \n",
        "  P_3_3 = np.dot(K,Q)\n",
        "  \n",
        "  P_proper_scale = (P_3_3[0,0]*P)/float(P[0,0])\n",
        "  \n",
        "  t = np.dot(inv(K), P_proper_scale[:,3])\n",
        "  \n",
        "  return K, Q, t\n",
        "\n",
        "#######################################################################################################################################################################################################\n",
        "\n",
        "\n",
        "# Step 1 : Load the data files rubik_2D_pts.mat and rubik_3d_pts.mat\n",
        "\n",
        "pts_3d = scipy.io.loadmat('rubik_3D_pts.mat')['pts_3d'] # 3D points in the world-coordinate system with one of the corners of the Rubik's cube as the origin; side of each smaller cube = 1 unit\n",
        "pts_2d = scipy.io.loadmat('rubik_2D_pts.mat')['pts_2d'] # The corresponding 2D points on the image rubik_cube.jpg\n",
        "\n",
        "print pts_2d.shape\n",
        "print pts_3d.shape\n",
        "\n",
        "\n",
        "# Step 2: Get the camera calibration matrix P\n",
        "  \n",
        "P = calibrate(pts_2d, pts_3d)     \n",
        "\n",
        "print 'P = ', P \n",
        "\n",
        "# Step 3: Use the function P_to_KRt (already written for you) to decompose P into intrinsics (K) and extrinsics (R and t)\n",
        "[K, R, t] = P_to_KRt(P)\n",
        "\n",
        "print 'K = ', K\n",
        "print 'R = ', R\n",
        "print 't = ', t\n",
        "\n",
        "# Write code here to compute the average reprojection error (averaged over the 28 points given)\n",
        "one = np.ones((28,), dtype=int)\n",
        "pts_3d = np.vstack((pts_3d, one))\n",
        "project = np.dot(P,pts_3d)\n",
        "l,w = project.shape\n",
        "for i in range(28):\n",
        "  project[0][i] = project[0][i]*(1/project[2][i])\n",
        "  project[1][i] = project[1][i]*(1/project[2][i])\n",
        "  project[2][i] = project[2][i]*(1/project[2][i])\n",
        "err1 = 0\n",
        "err2 = 0\n",
        "for i in range(28):\n",
        "  err1 += (pts_2d[0][i]-project[0][i])**2\n",
        "for j in range(28):\n",
        "  err1 += (pts_2d[1][j]-project[1][j])**2\n",
        "\n",
        "err = sqrt(err1+err2)/28\n",
        "print pts_2d\n",
        "print ('-------------------------------------------------------------')\n",
        "print project\n",
        "print ('-------------------------------------------------------------')\n",
        "print err\n",
        "\n",
        "\n",
        "\n",
        "# Display the given 2D points and the reprojected 2D points on the Rubik's Cube image provided\n",
        "\n"
      ],
      "execution_count": 0,
      "outputs": [
        {
          "output_type": "stream",
          "text": [
            "(2, 28)\n",
            "(3, 28)\n",
            "P =  [[ 2.23308102e-01  2.70878169e-02 -4.41655268e-02  6.49183948e-01]\n",
            " [ 3.18469634e-03 -1.77119603e-01 -1.43736464e-01  6.88452104e-01]\n",
            " [-1.46819264e-06  2.66159014e-05 -5.24103039e-05  1.17459356e-03]]\n",
            "K =  [[3.81917538e+03 4.37248713e+00 7.83199706e+02]\n",
            " [0.00000000e+00 3.79336488e+03 8.14021140e+02]\n",
            " [0.00000000e+00 0.00000000e+00 1.00000000e+00]]\n",
            "R =  [[ 0.99949535  0.02881726 -0.01336482]\n",
            " [ 0.01963624 -0.89122052 -0.453145  ]\n",
            " [-0.0249694   0.45265389 -0.89133663]]\n",
            "t =  [-1.20431631 -1.20015036 19.97619144]\n",
            "[[ 553.17485667  742.29197379  936.02170352 1128.07411957  561.98075348\n",
            "   749.83988534  938.53767404 1121.36486486  573.72194922  754.87182637\n",
            "   941.05364455 1121.78419328  582.94717445  759.06511057  942.31162981\n",
            "  1121.78419328  562.81941032  744.80794431  931.82841933 1115.91359541\n",
            "   576.65724816  750.25921376  928.89312039 1103.75307125  587.55978706\n",
            "   754.45249795  926.37714988 1095.36650287]\n",
            " [ 583.15683866  586.93079443  593.64004914  598.67199017  429.68263718\n",
            "   430.52129402  432.1986077   436.39189189  270.33783784  273.69246519\n",
            "   276.62776413  279.14373464  126.92751843  127.34684685  131.54013104\n",
            "   133.63677314  680.44103194  681.6990172   685.47297297  688.82760033\n",
            "   766.4033579   767.24201474  769.75798526  773.53194103  843.14045864\n",
            "   841.46314496  843.97911548  850.26904177]]\n",
            "-------------------------------------------------------------\n",
            "[[5.52688156e+02 7.43733002e+02 9.35256641e+02 1.12726088e+03\n",
            "  5.62992373e+02 7.49811556e+02 9.37088542e+02 1.12482502e+03\n",
            "  5.72849856e+02 7.55626262e+02 9.38840832e+02 1.12249514e+03\n",
            "  5.82289040e+02 7.61193934e+02 9.40518590e+02 1.12026449e+03\n",
            "  5.65075217e+02 7.47964828e+02 9.31293168e+02 1.11506182e+03\n",
            "  5.76447424e+02 7.51849548e+02 9.27655164e+02 1.10386567e+03\n",
            "  5.86924588e+02 7.55428186e+02 9.24304120e+02 1.09355362e+03]\n",
            " [5.86119427e+02 5.89567680e+02 5.93024574e+02 5.96490143e+02\n",
            "  4.25681380e+02 4.28856797e+02 4.32039995e+02 4.35231004e+02\n",
            "  2.72199051e+02 2.75121803e+02 2.78051560e+02 2.80988350e+02\n",
            "  1.25229694e+02 1.27918146e+02 1.30612906e+02 1.33313995e+02\n",
            "  6.78228156e+02 6.81639290e+02 6.85058606e+02 6.88486135e+02\n",
            "  7.62790546e+02 7.66158935e+02 7.69535073e+02 7.72918987e+02\n",
            "  8.40697493e+02 8.44019162e+02 8.47348170e+02 8.50684542e+02]\n",
            " [1.00000000e+00 1.00000000e+00 1.00000000e+00 1.00000000e+00\n",
            "  1.00000000e+00 1.00000000e+00 1.00000000e+00 1.00000000e+00\n",
            "  1.00000000e+00 1.00000000e+00 1.00000000e+00 1.00000000e+00\n",
            "  1.00000000e+00 1.00000000e+00 1.00000000e+00 1.00000000e+00\n",
            "  1.00000000e+00 1.00000000e+00 1.00000000e+00 1.00000000e+00\n",
            "  1.00000000e+00 1.00000000e+00 1.00000000e+00 1.00000000e+00\n",
            "  1.00000000e+00 1.00000000e+00 1.00000000e+00 1.00000000e+00]]\n",
            "-------------------------------------------------------------\n",
            "0.458757275267\n"
          ],
          "name": "stdout"
        }
      ]
    },
    {
      "metadata": {
        "id": "w4Z6CCKYs7wf",
        "colab_type": "code",
        "colab": {}
      },
      "cell_type": "code",
      "source": [
        ""
      ],
      "execution_count": 0,
      "outputs": []
    }
  ]
}